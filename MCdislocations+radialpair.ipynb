{
  "nbformat": 4,
  "nbformat_minor": 0,
  "metadata": {
    "colab": {
      "name": "MCdislocations+radialpair.ipynb",
      "provenance": [],
      "collapsed_sections": [],
      "include_colab_link": true
    },
    "kernelspec": {
      "name": "python3",
      "display_name": "Python 3"
    }
  },
  "cells": [
    {
      "cell_type": "markdown",
      "metadata": {
        "id": "view-in-github",
        "colab_type": "text"
      },
      "source": [
        "<a href=\"https://colab.research.google.com/github/tarun-allaparti/MCdislocations-radialpair/blob/master/MCdislocations%2Bradialpair.ipynb\" target=\"_parent\"><img src=\"https://colab.research.google.com/assets/colab-badge.svg\" alt=\"Open In Colab\"/></a>"
      ]
    },
    {
      "cell_type": "code",
      "metadata": {
        "id": "zqmExUiSzDLZ",
        "colab_type": "code",
        "outputId": "8b6dbf1e-e276-401e-a9d9-549081a8f4ea",
        "colab": {
          "base_uri": "https://localhost:8080/",
          "height": 190
        }
      },
      "source": [
        "\n",
        "import numpy as np\n",
        "import matplotlib.pyplot as plt\n",
        "import random\n",
        "from numba import jit\n",
        "import time\n",
        "tic = time.clock()\n",
        "B = 3*(10**-10) # burgers vector length in meters\n",
        "G = 57*(10**9) # shear modulus in Pa\n",
        "Ro = 10\n",
        "iterations = 100\n",
        "E = np.zeros(iterations)\n",
        "cells = np.ones((10,10))   \n",
        "# def create():              \n",
        "while cells.sum() > 0:\n",
        "    i = int(np.random.random()*10)\n",
        "    j = int(np.random.random()*10)\n",
        "    if cells[i][j] == 1:\n",
        "        cells[i][j] = -1       \n",
        "cells"
      ],
      "execution_count": 17,
      "outputs": [
        {
          "output_type": "execute_result",
          "data": {
            "text/plain": [
              "array([[-1.,  1., -1.,  1., -1., -1.,  1., -1., -1.,  1.],\n",
              "       [ 1.,  1.,  1.,  1., -1., -1., -1., -1.,  1., -1.],\n",
              "       [-1.,  1.,  1., -1.,  1., -1.,  1.,  1.,  1.,  1.],\n",
              "       [ 1.,  1.,  1.,  1.,  1.,  1.,  1.,  1., -1.,  1.],\n",
              "       [-1.,  1.,  1., -1., -1.,  1.,  1.,  1., -1., -1.],\n",
              "       [-1., -1.,  1., -1.,  1., -1., -1., -1.,  1.,  1.],\n",
              "       [-1., -1.,  1., -1., -1., -1., -1., -1., -1., -1.],\n",
              "       [ 1.,  1.,  1.,  1.,  1.,  1., -1., -1.,  1., -1.],\n",
              "       [-1., -1., -1.,  1., -1.,  1., -1.,  1., -1., -1.],\n",
              "       [ 1.,  1., -1.,  1., -1., -1., -1.,  1., -1.,  1.]])"
            ]
          },
          "metadata": {
            "tags": []
          },
          "execution_count": 17
        }
      ]
    },
    {
      "cell_type": "code",
      "metadata": {
        "id": "pImnon_nzMdK",
        "colab_type": "code",
        "colab": {}
      },
      "source": [
        "@jit(nopython = True)\n",
        "def energy(box):\n",
        "    e = 0\n",
        "    for i in np.arange(10):\n",
        "        for j in np.arange(10):\n",
        "            for a in np.arange(10):\n",
        "                for c in np.arange(10):\n",
        "                    if i != a or j != c:\n",
        "                        r = np.sqrt(((i-a)**2)+((j-c)**2))\n",
        "                        e = e+(G*B**2)*(1/(4*np.pi))*box[i][j]*box[a][c]*np.log(Ro/r)\n",
        "    return e "
      ],
      "execution_count": 0,
      "outputs": []
    },
    {
      "cell_type": "code",
      "metadata": {
        "id": "myy0wU0pzPMy",
        "colab_type": "code",
        "outputId": "3edc8171-f364-4b9a-f099-ec1c9ec8e4f8",
        "colab": {
          "base_uri": "https://localhost:8080/",
          "height": 328
        }
      },
      "source": [
        "swap = np.array(cells)\n",
        "for n in range(iterations):\n",
        "    swap_test = np.array(swap)\n",
        "    e_i = energy(swap)\n",
        "    flat = swap_test.flatten()\n",
        "    neg = np.where(flat == -1)\n",
        "    pos = np.where(flat == 1)\n",
        "    i = int(np.random.random()*10)\n",
        "    j = int(np.random.random()*10)\n",
        "    test = swap_test[i][j]\n",
        "    if test == 1:\n",
        "        x = int(np.random.random()*50)\n",
        "        y = neg[0][x]\n",
        "        a = int(y/10)\n",
        "        b = np.mod(y,10)\n",
        "        swap_test[i][j] = -1\n",
        "        swap_test[a][b] = 1\n",
        "\n",
        "    elif test == -1:\n",
        "        x = int(np.random.random()*50)\n",
        "        y = pos[0][x]\n",
        "        a = int(y/10)\n",
        "        b = np.mod(y,10)\n",
        "        swap_test[i][j] = 1\n",
        "        swap_test[a][b] = -1\n",
        "        \n",
        "    e_f = energy(swap_test)\n",
        "    \n",
        "    if e_f < e_i:\n",
        "        swap = np.array(swap_test)\n",
        "        E[n] = e_f\n",
        "    else:\n",
        "        E[n] = e_i\n",
        "        \n",
        "#     swap[i][j] = -swap[i][j]\n",
        "#     swap[a][b] = -swap[a][b]\n",
        "#     condition = energy(cells) - energy(swap)\n",
        "print(energy(cells))\n",
        "print(energy(swap))\n",
        "\n",
        "plt.plot(E)\n",
        "plt.scatter(np.arange(iterations),E)"
      ],
      "execution_count": 19,
      "outputs": [
        {
          "output_type": "stream",
          "text": [
            "-2.6003055961329137e-08\n",
            "-9.30625460470299e-08\n"
          ],
          "name": "stdout"
        },
        {
          "output_type": "execute_result",
          "data": {
            "text/plain": [
              "<matplotlib.collections.PathCollection at 0x7fbc7ad4e780>"
            ]
          },
          "metadata": {
            "tags": []
          },
          "execution_count": 19
        },
        {
          "output_type": "display_data",
          "data": {
            "image/png": "[encoded data removed]",
            "text/plain": [
              "<Figure size 432x288 with 1 Axes>"
            ]
          },
          "metadata": {
            "tags": []
          }
        }
      ]
    },
    {
      "cell_type": "code",
      "metadata": {
        "id": "UVcOseadzVwd",
        "colab_type": "code",
        "colab": {}
      },
      "source": [
        "dr = 0.2\n",
        "rmax = 7\n",
        "N = 100\n",
        "dens = 1\n",
        "\n",
        "rdfopp = np.zeros((100,int(rmax/dr)-1))\n",
        "\n",
        "for i in range(10):\n",
        "    for j in range(10):\n",
        "        distance = np.zeros((10,10))\n",
        "        for k in range(10):\n",
        "            for l in range(10):\n",
        "                distance[k,l] = np.sqrt(((i-k)**2)+(j-l)**2)\n",
        "                #distance is set to -1 for positions with like sign\n",
        "                if swap[i,j] == swap[k,l]:\n",
        "                    distance[k,l] = -1\n",
        "                \n",
        "        ref = dr\n",
        "        for m in range(int(rmax/dr)-1):\n",
        "            rlow = ref+m*dr\n",
        "            rhigh = rlow+dr\n",
        "           \n",
        "            uppershell = distance[distance < rhigh]\n",
        "            shell = uppershell[uppershell > rlow]\n",
        "            \n",
        "            first_ind = j+i*10\n",
        "            rdfopp[first_ind,m] = shell.size/(N*2*np.pi*rlow*dr)\n",
        "        "
      ],
      "execution_count": 0,
      "outputs": []
    },
    {
      "cell_type": "code",
      "metadata": {
        "id": "NHYnrSjszYi9",
        "colab_type": "code",
        "colab": {}
      },
      "source": [
        "dr = 0.2\n",
        "rmax = 7\n",
        "N = 100\n",
        "dens = 1\n",
        "\n",
        "rdflike = np.zeros((100,int(rmax/dr)-1))\n",
        "\n",
        "for i in range(10):\n",
        "    for j in range(10):\n",
        "        distance = np.zeros((10,10))\n",
        "        for k in range(10):\n",
        "            for l in range(10):\n",
        "                distance[k,l] = np.sqrt(((i-k)**2)+(j-l)**2)\n",
        "                #distance is set to -1 for positions with opposite sign\n",
        "                if swap[i,j] != swap[k,l]:\n",
        "                    distance[k,l] = -1\n",
        "                \n",
        "        ref = dr\n",
        "        for m in range(int(rmax/dr)-1):\n",
        "            rlow = ref+m*dr\n",
        "            rhigh = rlow+dr\n",
        "           \n",
        "            uppershell = distance[distance < rhigh]\n",
        "            shell = uppershell[uppershell > rlow]\n",
        "            \n",
        "            first_ind = j+i*10\n",
        "            rdflike[first_ind,m] = shell.size/(N*2*np.pi*rlow*dr)\n",
        "        "
      ],
      "execution_count": 0,
      "outputs": []
    },
    {
      "cell_type": "code",
      "metadata": {
        "id": "Am_qVNqBzdHQ",
        "colab_type": "code",
        "outputId": "e007e3f0-2a49-4f0c-b77e-38bbfbf38e71",
        "colab": {
          "base_uri": "https://localhost:8080/",
          "height": 282
        }
      },
      "source": [
        "plt.plot(rdfopp[54,:],label = 'opp')\n",
        "plt.plot(rdflike[54,:], label = 'like')\n",
        "plt.legend()"
      ],
      "execution_count": 22,
      "outputs": [
        {
          "output_type": "execute_result",
          "data": {
            "text/plain": [
              "<matplotlib.legend.Legend at 0x7fbc77c4f630>"
            ]
          },
          "metadata": {
            "tags": []
          },
          "execution_count": 22
        },
        {
          "output_type": "display_data",
          "data": {
            "image/png": "[encoded data removed]",
            "text/plain": [
              "<Figure size 432x288 with 1 Axes>"
            ]
          },
          "metadata": {
            "tags": []
          }
        }
      ]
    },
    {
      "cell_type": "code",
      "metadata": {
        "id": "HYZrY3sXzf8e",
        "colab_type": "code",
        "outputId": "cc92aac2-cf0a-4660-f5a2-c72ce1649673",
        "colab": {
          "base_uri": "https://localhost:8080/",
          "height": 282
        }
      },
      "source": [
        "plt.plot(rdfopp[54,:]-rdflike[54,:])"
      ],
      "execution_count": 23,
      "outputs": [
        {
          "output_type": "execute_result",
          "data": {
            "text/plain": [
              "[<matplotlib.lines.Line2D at 0x7fbc7ac18a58>]"
            ]
          },
          "metadata": {
            "tags": []
          },
          "execution_count": 23
        },
        {
          "output_type": "display_data",
          "data": {
            "image/png": "[encoded data removed]",
            "text/plain": [
              "<Figure size 432x288 with 1 Axes>"
            ]
          },
          "metadata": {
            "tags": []
          }
        }
      ]
    },
    {
      "cell_type": "code",
      "metadata": {
        "id": "eHRQS2yTziYJ",
        "colab_type": "code",
        "outputId": "033c2024-5a2e-4a1b-e41a-df8ba2b32491",
        "colab": {
          "base_uri": "https://localhost:8080/",
          "height": 34
        }
      },
      "source": [
        "toc = time.clock()\n",
        "print(toc-tic)\n",
        "# With Numba:  About 2-2.5 seconds to run entire code\n",
        "# Without Numba: About 20-30 seconds to run entire code\n",
        "# Numba, in this scenario, makes the program run about 10 times as fast!"
      ],
      "execution_count": 24,
      "outputs": [
        {
          "output_type": "stream",
          "text": [
            "1.2307109999999994\n"
          ],
          "name": "stdout"
        }
      ]
    },
    {
      "cell_type": "code",
      "metadata": {
        "id": "29ck3Fygzj8q",
        "colab_type": "code",
        "colab": {}
      },
      "source": [
        ""
      ],
      "execution_count": 0,
      "outputs": []
    }
  ]
}